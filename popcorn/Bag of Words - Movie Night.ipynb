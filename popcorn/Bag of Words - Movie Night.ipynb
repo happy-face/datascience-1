{
 "cells": [
  {
   "cell_type": "markdown",
   "metadata": {},
   "source": [
    "# Sentiment analysis - Bag of words meets bags of popcorn dataset\n",
    "## IMDB dataset for NLP analysis"
   ]
  },
  {
   "cell_type": "markdown",
   "metadata": {},
   "source": [
    "### 1. Introduction"
   ]
  },
  {
   "cell_type": "markdown",
   "metadata": {},
   "source": [
    "The goal of this project is to get familiar with Bag of Words model, commonly used in text classification. I'm using a relatively simple Kaggle dataset \"Bag of words meets bags of popcorn\" which can be found [here](https://www.kaggle.com/c/word2vec-nlp-tutorial/data). The data set consists of 25,000 IMDB movie reviews, specially selected for sentiment analysis. The classification is suppose to determine whether the review is positive or negative."
   ]
  },
  {
   "cell_type": "markdown",
   "metadata": {},
   "source": [
    "### 2. Data exploration"
   ]
  },
  {
   "cell_type": "markdown",
   "metadata": {},
   "source": [
    "Data set consists of 25000 entries, each with 3 parameters: id, sentiment, and review. "
   ]
  },
  {
   "cell_type": "code",
   "execution_count": 1,
   "metadata": {},
   "outputs": [],
   "source": [
    "import pandas as pd\n",
    "import matplotlib.pyplot as plt"
   ]
  },
  {
   "cell_type": "code",
   "execution_count": 2,
   "metadata": {},
   "outputs": [
    {
     "data": {
      "text/html": [
       "<div>\n",
       "<style scoped>\n",
       "    .dataframe tbody tr th:only-of-type {\n",
       "        vertical-align: middle;\n",
       "    }\n",
       "\n",
       "    .dataframe tbody tr th {\n",
       "        vertical-align: top;\n",
       "    }\n",
       "\n",
       "    .dataframe thead th {\n",
       "        text-align: right;\n",
       "    }\n",
       "</style>\n",
       "<table border=\"1\" class=\"dataframe\">\n",
       "  <thead>\n",
       "    <tr style=\"text-align: right;\">\n",
       "      <th></th>\n",
       "      <th>id</th>\n",
       "      <th>sentiment</th>\n",
       "      <th>review</th>\n",
       "    </tr>\n",
       "  </thead>\n",
       "  <tbody>\n",
       "    <tr>\n",
       "      <th>0</th>\n",
       "      <td>5814_8</td>\n",
       "      <td>1</td>\n",
       "      <td>With all this stuff going down at the moment w...</td>\n",
       "    </tr>\n",
       "    <tr>\n",
       "      <th>1</th>\n",
       "      <td>2381_9</td>\n",
       "      <td>1</td>\n",
       "      <td>\\The Classic War of the Worlds\\\" by Timothy Hi...</td>\n",
       "    </tr>\n",
       "    <tr>\n",
       "      <th>2</th>\n",
       "      <td>7759_3</td>\n",
       "      <td>0</td>\n",
       "      <td>The film starts with a manager (Nicholas Bell)...</td>\n",
       "    </tr>\n",
       "    <tr>\n",
       "      <th>3</th>\n",
       "      <td>3630_4</td>\n",
       "      <td>0</td>\n",
       "      <td>It must be assumed that those who praised this...</td>\n",
       "    </tr>\n",
       "    <tr>\n",
       "      <th>4</th>\n",
       "      <td>9495_8</td>\n",
       "      <td>1</td>\n",
       "      <td>Superbly trashy and wondrously unpretentious 8...</td>\n",
       "    </tr>\n",
       "  </tbody>\n",
       "</table>\n",
       "</div>"
      ],
      "text/plain": [
       "       id  sentiment                                             review\n",
       "0  5814_8          1  With all this stuff going down at the moment w...\n",
       "1  2381_9          1  \\The Classic War of the Worlds\\\" by Timothy Hi...\n",
       "2  7759_3          0  The film starts with a manager (Nicholas Bell)...\n",
       "3  3630_4          0  It must be assumed that those who praised this...\n",
       "4  9495_8          1  Superbly trashy and wondrously unpretentious 8..."
      ]
     },
     "execution_count": 2,
     "metadata": {},
     "output_type": "execute_result"
    }
   ],
   "source": [
    "df = pd.read_csv('C:\\insight_program\\ml_bag_popcorn\\labeledTrainData.tsv', sep='\\t')\n",
    "df.head()"
   ]
  },
  {
   "cell_type": "code",
   "execution_count": 3,
   "metadata": {},
   "outputs": [
    {
     "data": {
      "text/plain": [
       "(25000, 3)"
      ]
     },
     "execution_count": 3,
     "metadata": {},
     "output_type": "execute_result"
    }
   ],
   "source": [
    "df.shape"
   ]
  },
  {
   "cell_type": "markdown",
   "metadata": {},
   "source": [
    "It seems that all id's are unique (refer to a unique movie), so at this time, I'll only keep the sentiment and review columns."
   ]
  },
  {
   "cell_type": "code",
   "execution_count": 4,
   "metadata": {},
   "outputs": [
    {
     "data": {
      "text/plain": [
       "25000"
      ]
     },
     "execution_count": 4,
     "metadata": {},
     "output_type": "execute_result"
    }
   ],
   "source": [
    "len(df['id'].unique())"
   ]
  },
  {
   "cell_type": "code",
   "execution_count": 5,
   "metadata": {},
   "outputs": [],
   "source": [
    "col = ['sentiment', 'review']\n",
    "df = df[col]\n",
    "#dropping columns to prevent memory error\n",
    "#df = df[:-5000]\n",
    "df = df[:-15000]"
   ]
  },
  {
   "cell_type": "markdown",
   "metadata": {},
   "source": [
    "### 3. Text preprocessing"
   ]
  },
  {
   "cell_type": "markdown",
   "metadata": {},
   "source": [
    "Text of the reviews needs to be preprocessed. I will remove html notation, convert all letters to lowercase, remove numbers and punctuation. The vectorization algoritm itself has the option for dealing with stop words, so I won't be addressing that here."
   ]
  },
  {
   "cell_type": "code",
   "execution_count": 6,
   "metadata": {},
   "outputs": [
    {
     "name": "stdout",
     "output_type": "stream",
     "text": [
      "\\Mr. Harvey Lights a Candle\\\" is anchored by a brilliant performance by Timothy Spall.<br /><br />While we can predict that his titular morose, up tight teacher will have some sort of break down or catharsis based on some deep down secret from his past, how his emotions are unveiled is surprising. Spall's range of feelings conveyed is quite moving and more than he usually gets to portray as part of the Mike Leigh repertory.<br /><br />While an expected boring school bus trip has only been used for comic purposes, such as on \\\"The Simpsons,\\\" this central situation of a visit to Salisbury Cathedral in Rhidian Brook's script is well-contained and structured for dramatic purposes, and is almost formally divided into acts.<br /><br />We're introduced to the urban British range of racially and religiously diverse kids (with their uniforms I couldn't tell if this is a \\\"private\\\" or \\\"public\\\" school), as they gather  the rapping black kids, the serious South Asians and Muslims, the white bullies and mean girls  but conveyed quite naturally and individually. The young actors, some of whom I recognized from British TV such as \\\"Shameless,\\\" were exuberant in representing the usual range of junior high social pressures. Celia Imrie puts more warmth into the supervisor's role than the martinets she usually has to play.<br /><br />A break in the trip leads to a transformative crisis for some while others remain amusingly oblivious. We think, like the teacher portrayed by Ben Miles of \\\"Coupling,\\\" that we will be spoon fed a didactic lesson about religious tolerance, but it's much more about faith in people as well as God, which is why the BBC showed it in England at Easter time and BBC America showed it in the U.S. over Christmas.<br /><br />Nathalie Press, who was also so good in \\\"Summer of Love,\\\" has a key role in Mr. Harvey's redemption that could have been played for movie-of-the-week preaching, but is touching as they reach out to each other in an unexpected way (unfortunately I saw their intense scene interrupted by commercials).<br /><br />While it is a bit heavy-handed in several times pointedly calling this road trip \\\"a pilgrimage,\\\" this quiet film was the best evocation of \\\"good will towards men\\\" than I've seen in most holiday-themed TV movies.\"\n"
     ]
    }
   ],
   "source": [
    "print(df['review'][12])"
   ]
  },
  {
   "cell_type": "code",
   "execution_count": 7,
   "metadata": {},
   "outputs": [],
   "source": [
    "import re"
   ]
  },
  {
   "cell_type": "code",
   "execution_count": 8,
   "metadata": {},
   "outputs": [],
   "source": [
    "#defining function to clean up the text\n",
    "from bs4 import BeautifulSoup\n",
    "import re\n",
    "\n",
    "def review_to_text(raw_review):\n",
    "    \"\"\"Function to convert raw review text to string of words\n",
    "    input: raw review text\n",
    "    output: prepocessed review text (removed html tags, converted to lowercase, removed numbers and punctuation)\n",
    "    \"\"\"\n",
    "    # remove HTML\n",
    "    review_text = BeautifulSoup(raw_review).get_text() \n",
    "    #\n",
    "    # remove numbers and punctuation      \n",
    "    letters_only = re.sub(\"[^a-zA-Z]\", \" \", review_text) \n",
    "    #\n",
    "    # convert to lower case, split into individual words\n",
    "    words = letters_only.lower().split()\n",
    "    \n",
    "    return (\" \".join(words))"
   ]
  },
  {
   "cell_type": "markdown",
   "metadata": {},
   "source": [
    "Here's an example of a processed review:"
   ]
  },
  {
   "cell_type": "code",
   "execution_count": 9,
   "metadata": {},
   "outputs": [
    {
     "name": "stdout",
     "output_type": "stream",
     "text": [
      "mr harvey lights a candle is anchored by a brilliant performance by timothy spall while we can predict that his titular morose up tight teacher will have some sort of break down or catharsis based on some deep down secret from his past how his emotions are unveiled is surprising spall s range of feelings conveyed is quite moving and more than he usually gets to portray as part of the mike leigh repertory while an expected boring school bus trip has only been used for comic purposes such as on the simpsons this central situation of a visit to salisbury cathedral in rhidian brook s script is well contained and structured for dramatic purposes and is almost formally divided into acts we re introduced to the urban british range of racially and religiously diverse kids with their uniforms i couldn t tell if this is a private or public school as they gather the rapping black kids the serious south asians and muslims the white bullies and mean girls but conveyed quite naturally and individually the young actors some of whom i recognized from british tv such as shameless were exuberant in representing the usual range of junior high social pressures celia imrie puts more warmth into the supervisor s role than the martinets she usually has to play a break in the trip leads to a transformative crisis for some while others remain amusingly oblivious we think like the teacher portrayed by ben miles of coupling that we will be spoon fed a didactic lesson about religious tolerance but it s much more about faith in people as well as god which is why the bbc showed it in england at easter time and bbc america showed it in the u s over christmas nathalie press who was also so good in summer of love has a key role in mr harvey s redemption that could have been played for movie of the week preaching but is touching as they reach out to each other in an unexpected way unfortunately i saw their intense scene interrupted by commercials while it is a bit heavy handed in several times pointedly calling this road trip a pilgrimage this quiet film was the best evocation of good will towards men than i ve seen in most holiday themed tv movies\n"
     ]
    }
   ],
   "source": [
    "clean_review = review_to_text( df['review'][12])\n",
    "print (clean_review)"
   ]
  },
  {
   "cell_type": "markdown",
   "metadata": {},
   "source": [
    "Now we can apply preprocessing function to all the reviews in the data set:"
   ]
  },
  {
   "cell_type": "code",
   "execution_count": 10,
   "metadata": {},
   "outputs": [],
   "source": [
    "num_reviews = df['review'].size\n",
    "clean_text_reviews = []\n",
    "\n",
    "for i in range(num_reviews):\n",
    "    '''if ((i+1)%1000 == 0):\n",
    "        print(\"Processed %d reviews of %d reviews total\\n\" % (i+1, num_reviews))'''\n",
    "    clean_text_reviews.append(review_to_text(df['review'][i]))\n",
    "\n",
    "df['clean_review'] = clean_text_reviews"
   ]
  },
  {
   "cell_type": "code",
   "execution_count": 11,
   "metadata": {
    "scrolled": true
   },
   "outputs": [
    {
     "name": "stdout",
     "output_type": "stream",
     "text": [
      "mr harvey lights a candle is anchored by a brilliant performance by timothy spall while we can predict that his titular morose up tight teacher will have some sort of break down or catharsis based on some deep down secret from his past how his emotions are unveiled is surprising spall s range of feelings conveyed is quite moving and more than he usually gets to portray as part of the mike leigh repertory while an expected boring school bus trip has only been used for comic purposes such as on the simpsons this central situation of a visit to salisbury cathedral in rhidian brook s script is well contained and structured for dramatic purposes and is almost formally divided into acts we re introduced to the urban british range of racially and religiously diverse kids with their uniforms i couldn t tell if this is a private or public school as they gather the rapping black kids the serious south asians and muslims the white bullies and mean girls but conveyed quite naturally and individually the young actors some of whom i recognized from british tv such as shameless were exuberant in representing the usual range of junior high social pressures celia imrie puts more warmth into the supervisor s role than the martinets she usually has to play a break in the trip leads to a transformative crisis for some while others remain amusingly oblivious we think like the teacher portrayed by ben miles of coupling that we will be spoon fed a didactic lesson about religious tolerance but it s much more about faith in people as well as god which is why the bbc showed it in england at easter time and bbc america showed it in the u s over christmas nathalie press who was also so good in summer of love has a key role in mr harvey s redemption that could have been played for movie of the week preaching but is touching as they reach out to each other in an unexpected way unfortunately i saw their intense scene interrupted by commercials while it is a bit heavy handed in several times pointedly calling this road trip a pilgrimage this quiet film was the best evocation of good will towards men than i ve seen in most holiday themed tv movies\n"
     ]
    }
   ],
   "source": [
    "print(df['clean_review'][12])"
   ]
  },
  {
   "cell_type": "markdown",
   "metadata": {},
   "source": [
    "Before we start classifying, let's check how balanced are the two sets? Grouped by sentiment."
   ]
  },
  {
   "cell_type": "code",
   "execution_count": 12,
   "metadata": {},
   "outputs": [
    {
     "data": {
      "image/png": "[encoded data removed]",
      "text/plain": [
       "<Figure size 576x432 with 1 Axes>"
      ]
     },
     "metadata": {
      "needs_background": "light"
     },
     "output_type": "display_data"
    }
   ],
   "source": [
    "# How balanced are the sets\n",
    "fig = plt.figure(figsize=(8,6))\n",
    "df.groupby('sentiment').clean_review.count().plot.bar(ylim=0)\n",
    "plt.show()"
   ]
  },
  {
   "cell_type": "markdown",
   "metadata": {},
   "source": [
    "Also, are there any missing values in the sets?"
   ]
  },
  {
   "cell_type": "code",
   "execution_count": 13,
   "metadata": {},
   "outputs": [
    {
     "data": {
      "text/plain": [
       "False"
      ]
     },
     "execution_count": 13,
     "metadata": {},
     "output_type": "execute_result"
    }
   ],
   "source": [
    "df.isnull().values.any()"
   ]
  },
  {
   "cell_type": "markdown",
   "metadata": {},
   "source": [
    "### 4. Text representation (aka feature extraction)"
   ]
  },
  {
   "cell_type": "markdown",
   "metadata": {},
   "source": [
    "First, I'm goint to calculate TF-IDF parameter"
   ]
  },
  {
   "cell_type": "code",
   "execution_count": 14,
   "metadata": {},
   "outputs": [
    {
     "name": "stdout",
     "output_type": "stream",
     "text": [
      "(10000, 32916)\n"
     ]
    }
   ],
   "source": [
    "from sklearn.feature_extraction.text import TfidfVectorizer\n",
    "\n",
    "tfidf = TfidfVectorizer(sublinear_tf=True, min_df=5, norm='l2', encoding='latin-1', ngram_range=(1,2), stop_words='english')\n",
    "features = tfidf.fit_transform(df.clean_review).toarray()\n",
    "print(features.shape)"
   ]
  },
  {
   "cell_type": "code",
   "execution_count": 15,
   "metadata": {},
   "outputs": [
    {
     "name": "stdout",
     "output_type": "stream",
     "text": [
      "[10148  5892 29198 ... 31597 32500  1784]\n",
      "0\n",
      " . Most correlated unigrams:\n",
      ". worst\n",
      ". bad\n",
      " . Most correlated bigrams:\n",
      ". worst movie\n",
      ". waste time\n",
      "[10148  5892 29198 ... 31597 32500  1784]\n",
      "1\n",
      " . Most correlated unigrams:\n",
      ". worst\n",
      ". bad\n",
      " . Most correlated bigrams:\n",
      ". worst movie\n",
      ". waste time\n"
     ]
    }
   ],
   "source": [
    "#feature selection using chi2 to find the terms most correlated to sentiment\n",
    "from sklearn.feature_selection import chi2\n",
    "import numpy as np\n",
    "\n",
    "N=2\n",
    "for sentiments in [0,1]:\n",
    "    # print(df.sentiment == sentiments)\n",
    "    features_chi2 = chi2(features, df.sentiment == sentiments)\n",
    "    indices = np.argsort(features_chi2[0])\n",
    "    print(indices)\n",
    "    feature_names = np.array(tfidf.get_feature_names())[indices]\n",
    "    unigrams = [v for v in feature_names if len(v.split(' ')) == 1]\n",
    "    bigrams = [v for v in feature_names if len(v.split(' ')) == 2]\n",
    "    print(sentiments)\n",
    "    print(\" . Most correlated unigrams:\\n. {}\".format('\\n. '.join(unigrams[-N:])))\n",
    "    print(\" . Most correlated bigrams:\\n. {}\".format('\\n. '.join(bigrams[-N:])))"
   ]
  },
  {
   "cell_type": "code",
   "execution_count": 16,
   "metadata": {},
   "outputs": [],
   "source": [
    "from sklearn.model_selection import train_test_split\n",
    "from sklearn.feature_extraction.text import CountVectorizer\n",
    "from sklearn.feature_extraction.text import TfidfTransformer\n",
    "\n",
    "X_train, X_test, y_train, y_test = train_test_split(df['clean_review'], df['sentiment'], random_state=0)\n",
    "count_vect = CountVectorizer()\n",
    "X_train_counts = count_vect.fit_transform(X_train)\n",
    "tfidf_transformer = TfidfTransformer()\n",
    "X_train_tfidf = tfidf_transformer.fit_transform(X_train_counts)"
   ]
  },
  {
   "cell_type": "code",
   "execution_count": 17,
   "metadata": {},
   "outputs": [],
   "source": [
    "from sklearn.naive_bayes import MultinomialNB\n",
    "\n",
    "clf = MultinomialNB().fit(X_train_tfidf, y_train)"
   ]
  },
  {
   "cell_type": "markdown",
   "metadata": {},
   "source": [
    "After fitting the data set, let's make some predictions using random reviews from IMDB"
   ]
  },
  {
   "cell_type": "code",
   "execution_count": 18,
   "metadata": {},
   "outputs": [
    {
     "name": "stdout",
     "output_type": "stream",
     "text": [
      "[1]\n",
      "[1]\n",
      "[0]\n",
      "[0]\n"
     ]
    }
   ],
   "source": [
    "print(clf.predict(count_vect.transform([\"This movie is great.\"])))\n",
    "print(clf.predict(count_vect.transform([\"This is the best movie I've ever seen in a long time the fast and the furious\"\n",
    "                                        \"is a awsome movie with a great story awsome animation unforgettable characters\"\n",
    "                                        \"and songs that will set you free this is a must watched movie for everybody who\"\n",
    "                                        \"like games like need for speed underground 2 and spy movies like spy kids I give it a 10/10\"])))\n",
    "print(clf.predict(count_vect.transform([\"They really tried to make the film more than just a racer, but it couldn't keep\"\n",
    "                                        \"my attention span for more than 10 minutes at a time, I kept looking for something\"\n",
    "                                        \"else to do. The tunnel racing was nicely done, but that's about the only highlight for me. \"])))\n",
    "\n",
    "print(clf.predict(count_vect.transform([\"Since we can't give negative scores this was the only logical score i could give.\"\n",
    "                                        \"The worst acting ever seen, the worst story ever. Every event turn out to be less\"\n",
    "                                        \"logical than a man marruing a jellyfish. All the answer came out from nowhere.\"\n",
    "                                        \"Why do Brian knew who was the culprit without anyone telling him about it?.\"\n",
    "                                        \"In the church (the most ridiculous scene in the movie); Why do Brian hang a pistol\"\n",
    "                                        \"when the other one was using a shootgun?. Please god, I BEG YOU, Don't ever let another F&F film be made ever again.\"])))\n"
   ]
  },
  {
   "cell_type": "markdown",
   "metadata": {},
   "source": [
    "I've experimented with different ML models: Naive Bayes, Linear SVM, Random Forest and Logistic Regression."
   ]
  },
  {
   "cell_type": "code",
   "execution_count": 19,
   "metadata": {},
   "outputs": [
    {
     "name": "stdout",
     "output_type": "stream",
     "text": [
      "(10000, 32916)\n",
      "RandomForestClassifier(bootstrap=True, class_weight=None, criterion='gini',\n",
      "            max_depth=3, max_features='auto', max_leaf_nodes=None,\n",
      "            min_impurity_decrease=0.0, min_impurity_split=None,\n",
      "            min_samples_leaf=1, min_samples_split=2,\n",
      "            min_weight_fraction_leaf=0.0, n_estimators=200, n_jobs=None,\n",
      "            oob_score=False, random_state=0, verbose=0, warm_start=False)\n",
      "LinearSVC(C=1.0, class_weight=None, dual=True, fit_intercept=True,\n",
      "     intercept_scaling=1, loss='squared_hinge', max_iter=1000,\n",
      "     multi_class='ovr', penalty='l2', random_state=None, tol=0.0001,\n",
      "     verbose=0)\n",
      "MultinomialNB(alpha=1.0, class_prior=None, fit_prior=True)\n",
      "LogisticRegression(C=1.0, class_weight=None, dual=False, fit_intercept=True,\n",
      "          intercept_scaling=1, max_iter=100, multi_class='warn',\n",
      "          n_jobs=None, penalty='l2', random_state=0, solver='warn',\n",
      "          tol=0.0001, verbose=0, warm_start=False)\n"
     ]
    },
    {
     "name": "stderr",
     "output_type": "stream",
     "text": [
      "C:\\ProgramData\\Anaconda3\\lib\\site-packages\\sklearn\\linear_model\\logistic.py:433: FutureWarning: Default solver will be changed to 'lbfgs' in 0.22. Specify a solver to silence this warning.\n",
      "  FutureWarning)\n",
      "C:\\ProgramData\\Anaconda3\\lib\\site-packages\\sklearn\\linear_model\\logistic.py:433: FutureWarning: Default solver will be changed to 'lbfgs' in 0.22. Specify a solver to silence this warning.\n",
      "  FutureWarning)\n",
      "C:\\ProgramData\\Anaconda3\\lib\\site-packages\\sklearn\\linear_model\\logistic.py:433: FutureWarning: Default solver will be changed to 'lbfgs' in 0.22. Specify a solver to silence this warning.\n",
      "  FutureWarning)\n",
      "C:\\ProgramData\\Anaconda3\\lib\\site-packages\\sklearn\\linear_model\\logistic.py:433: FutureWarning: Default solver will be changed to 'lbfgs' in 0.22. Specify a solver to silence this warning.\n",
      "  FutureWarning)\n",
      "C:\\ProgramData\\Anaconda3\\lib\\site-packages\\sklearn\\linear_model\\logistic.py:433: FutureWarning: Default solver will be changed to 'lbfgs' in 0.22. Specify a solver to silence this warning.\n",
      "  FutureWarning)\n"
     ]
    },
    {
     "name": "stdout",
     "output_type": "stream",
     "text": [
      "model_name\n",
      "LinearSVC                 0.884200\n",
      "LogisticRegression        0.878201\n",
      "MultinomialNB             0.870701\n",
      "RandomForestClassifier    0.776700\n",
      "Name: accuracy, dtype: float64\n"
     ]
    }
   ],
   "source": [
    "from sklearn.linear_model import LogisticRegression\n",
    "from sklearn.ensemble import RandomForestClassifier\n",
    "from sklearn.svm import LinearSVC\n",
    "\n",
    "from sklearn.model_selection import cross_val_score\n",
    "\n",
    "print(features.shape)\n",
    "\n",
    "models = [\n",
    "    RandomForestClassifier(n_estimators=200, max_depth=3, random_state=0),\n",
    "    LinearSVC(),\n",
    "    MultinomialNB(),\n",
    "    LogisticRegression(random_state=0)\n",
    "]\n",
    "\n",
    "CV=5\n",
    "cv_df = pd.DataFrame(index=range(CV * len(models)))\n",
    "entries = []\n",
    "for model in models:\n",
    "    print(model)\n",
    "    model_name = model.__class__.__name__\n",
    "    accuracies = cross_val_score(model, features, df.sentiment, cv=CV, pre_dispatch=1)\n",
    "    for fold_idx, accuracy in enumerate(accuracies):\n",
    "        entries.append((model_name, fold_idx, accuracy))\n",
    "cv_df = pd.DataFrame(entries, columns=['model_name','fold_idx','accuracy'])\n",
    "\n",
    "print(cv_df.groupby('model_name')['accuracy'].mean())"
   ]
  }
 ],
 "metadata": {
  "kernelspec": {
   "display_name": "Python 3",
   "language": "python",
   "name": "python3"
  },
  "language_info": {
   "codemirror_mode": {
    "name": "ipython",
    "version": 3
   },
   "file_extension": ".py",
   "mimetype": "text/x-python",
   "name": "python",
   "nbconvert_exporter": "python",
   "pygments_lexer": "ipython3",
   "version": "3.7.1"
  }
 },
 "nbformat": 4,
 "nbformat_minor": 2
}

{
 "cells": [
  {
   "cell_type": "markdown",
   "metadata": {},
   "source": [
    "# Predicting type of breast cancer cells"
   ]
  },
  {
   "cell_type": "markdown",
   "metadata": {},
   "source": [
    "Questions of interest:\n",
    "    1. What features of a cell are the largest drivers of malignancy?\n",
    "    2. How would a physician use your product?\n",
    "    3. There is a non-zero cost in time and money to collect each feature about a given cell. How would you go about determining the most cost-effective method of detecting malignancy?\n",
    "\n",
    "Project description.\n",
    "\n",
    "The dataset contains the following features for each cell:\n",
    "Sample code number: id number\n",
    "Clump Thickness: 1 - 10\n",
    "Uniformity of Cell Size: 1 - 10\n",
    "Uniformity of Cell Shape: 1 - 10\n",
    "Marginal Adhesion: 1 - 10\n",
    "Single Epithelial Cell Size: 1 - 10\n",
    "Bare Nuclei: 1 - 10\n",
    "Bland Chromatin: 1 - 10\n",
    "Normal Nucleoli: 1 - 10\n",
    "Mitoses: 1 - 10\n",
    "Class: (2 for benign, 4 for malignant)\n",
    "\n",
    "My investigation\n",
    "Hypotheses\n",
    "Findings\n",
    "Recommendations"
   ]
  },
  {
   "cell_type": "code",
   "execution_count": 240,
   "metadata": {},
   "outputs": [],
   "source": [
    "import numpy as np\n",
    "import pandas as pd"
   ]
  },
  {
   "cell_type": "code",
   "execution_count": 241,
   "metadata": {},
   "outputs": [
    {
     "data": {
      "text/html": [
       "<div>\n",
       "<style scoped>\n",
       "    .dataframe tbody tr th:only-of-type {\n",
       "        vertical-align: middle;\n",
       "    }\n",
       "\n",
       "    .dataframe tbody tr th {\n",
       "        vertical-align: top;\n",
       "    }\n",
       "\n",
       "    .dataframe thead th {\n",
       "        text-align: right;\n",
       "    }\n",
       "</style>\n",
       "<table border=\"1\" class=\"dataframe\">\n",
       "  <thead>\n",
       "    <tr style=\"text-align: right;\">\n",
       "      <th></th>\n",
       "      <th>Index</th>\n",
       "      <th>ID</th>\n",
       "      <th>Clump Thickness</th>\n",
       "      <th>Uniformity of Cell Size</th>\n",
       "      <th>Uniformity of Cell Shape</th>\n",
       "      <th>Marginal Adhesion</th>\n",
       "      <th>Single Epithelial Cell Size</th>\n",
       "      <th>Bare Nuclei</th>\n",
       "      <th>Bland Chromatin</th>\n",
       "      <th>Normal Nucleoli</th>\n",
       "      <th>Mitoses</th>\n",
       "      <th>Class</th>\n",
       "    </tr>\n",
       "  </thead>\n",
       "  <tbody>\n",
       "    <tr>\n",
       "      <th>0</th>\n",
       "      <td>0</td>\n",
       "      <td>1241035</td>\n",
       "      <td>7</td>\n",
       "      <td>8</td>\n",
       "      <td>3</td>\n",
       "      <td>7</td>\n",
       "      <td>4</td>\n",
       "      <td>5</td>\n",
       "      <td>7</td>\n",
       "      <td>8</td>\n",
       "      <td>2</td>\n",
       "      <td>4</td>\n",
       "    </tr>\n",
       "    <tr>\n",
       "      <th>1</th>\n",
       "      <td>1</td>\n",
       "      <td>1107684</td>\n",
       "      <td>6</td>\n",
       "      <td>10</td>\n",
       "      <td>5</td>\n",
       "      <td>5</td>\n",
       "      <td>4</td>\n",
       "      <td>10</td>\n",
       "      <td>6</td>\n",
       "      <td>10</td>\n",
       "      <td>1</td>\n",
       "      <td>4</td>\n",
       "    </tr>\n",
       "    <tr>\n",
       "      <th>2</th>\n",
       "      <td>2</td>\n",
       "      <td>691628</td>\n",
       "      <td>8</td>\n",
       "      <td>6</td>\n",
       "      <td>4</td>\n",
       "      <td>10</td>\n",
       "      <td>10</td>\n",
       "      <td>1</td>\n",
       "      <td>3</td>\n",
       "      <td>5</td>\n",
       "      <td>1</td>\n",
       "      <td>4</td>\n",
       "    </tr>\n",
       "    <tr>\n",
       "      <th>3</th>\n",
       "      <td>3</td>\n",
       "      <td>1226612</td>\n",
       "      <td>7</td>\n",
       "      <td>5</td>\n",
       "      <td>6</td>\n",
       "      <td>3</td>\n",
       "      <td>3</td>\n",
       "      <td>8</td>\n",
       "      <td>7</td>\n",
       "      <td>4</td>\n",
       "      <td>1</td>\n",
       "      <td>4</td>\n",
       "    </tr>\n",
       "    <tr>\n",
       "      <th>4</th>\n",
       "      <td>4</td>\n",
       "      <td>1142706</td>\n",
       "      <td>5</td>\n",
       "      <td>10</td>\n",
       "      <td>10</td>\n",
       "      <td>10</td>\n",
       "      <td>6</td>\n",
       "      <td>10</td>\n",
       "      <td>6</td>\n",
       "      <td>5</td>\n",
       "      <td>2</td>\n",
       "      <td>4</td>\n",
       "    </tr>\n",
       "  </tbody>\n",
       "</table>\n",
       "</div>"
      ],
      "text/plain": [
       "   Index       ID  Clump Thickness Uniformity of Cell Size  \\\n",
       "0      0  1241035                7                       8   \n",
       "1      1  1107684                6                      10   \n",
       "2      2   691628                8                       6   \n",
       "3      3  1226612                7                       5   \n",
       "4      4  1142706                5                      10   \n",
       "\n",
       "  Uniformity of Cell Shape Marginal Adhesion Single Epithelial Cell Size  \\\n",
       "0                        3                 7                           4   \n",
       "1                        5                 5                           4   \n",
       "2                        4                10                          10   \n",
       "3                        6                 3                           3   \n",
       "4                       10                10                           6   \n",
       "\n",
       "  Bare Nuclei Bland Chromatin Normal Nucleoli Mitoses Class  \n",
       "0           5               7               8       2     4  \n",
       "1          10               6              10       1     4  \n",
       "2           1               3               5       1     4  \n",
       "3           8               7               4       1     4  \n",
       "4          10               6               5       2     4  "
      ]
     },
     "execution_count": 241,
     "metadata": {},
     "output_type": "execute_result"
    }
   ],
   "source": [
    "df = pd.read_csv('breast-cancer-wisconsin.txt')\n",
    "df.head()"
   ]
  },
  {
   "cell_type": "code",
   "execution_count": 242,
   "metadata": {},
   "outputs": [
    {
     "data": {
      "text/plain": [
       "Index(['Index', 'ID', 'Clump Thickness', 'Uniformity of Cell Size',\n",
       "       'Uniformity of Cell Shape', 'Marginal Adhesion',\n",
       "       'Single Epithelial Cell Size', 'Bare Nuclei', 'Bland Chromatin',\n",
       "       'Normal Nucleoli', 'Mitoses', 'Class'],\n",
       "      dtype='object')"
      ]
     },
     "execution_count": 242,
     "metadata": {},
     "output_type": "execute_result"
    }
   ],
   "source": [
    "df.columns"
   ]
  },
  {
   "cell_type": "markdown",
   "metadata": {},
   "source": [
    "## 2. Exploratory Data Analysis"
   ]
  },
  {
   "cell_type": "markdown",
   "metadata": {},
   "source": [
    "First I'm checking the dataset for any missing values, duplicates...\n",
    "There are 28 data rows with missing information. Compared to the dataset size, that is a fairly small number, so, I'm goint to drop those values."
   ]
  },
  {
   "cell_type": "code",
   "execution_count": 243,
   "metadata": {},
   "outputs": [
    {
     "data": {
      "text/plain": [
       "<bound method NDFrame.describe of        Index        ID  Clump Thickness Uniformity of Cell Size  \\\n",
       "0          0   1241035                7                       8   \n",
       "1          1   1107684                6                      10   \n",
       "2          2    691628                8                       6   \n",
       "3          3   1226612                7                       5   \n",
       "4          4   1142706                5                      10   \n",
       "5          5    601265               10                       4   \n",
       "6          6    378275               10                       9   \n",
       "7          7   1142706                5                      10   \n",
       "8          8    601265               10                       4   \n",
       "9          9   1226612                7                       5   \n",
       "10        10   1169049                7                       3   \n",
       "11        11    691628                8                       6   \n",
       "12        12   1111249               10                       6   \n",
       "13        13   1076352                3                       6   \n",
       "14        14   1112209                8                      10   \n",
       "15        15   1226612                7                       5   \n",
       "16        16   1112209                8                      10   \n",
       "17        17   1112209                8                      10   \n",
       "18        18   1107684                6                      10   \n",
       "19        19   1110524               10                       5   \n",
       "20        20   1326892                3                       1   \n",
       "21        21   1106829                7                       8   \n",
       "22        22    378275               10                       9   \n",
       "23        23   1241035                7                       8   \n",
       "24        24   1111249               10                       6   \n",
       "25        25   1198641               10                      10   \n",
       "26        26   1226612                7                       5   \n",
       "27        27   1241035                7                       8   \n",
       "28        28   1200892                8                       6   \n",
       "29        29   1198641               10                      10   \n",
       "...      ...       ...              ...                     ...   \n",
       "15825  15825   1226612                7                       5   \n",
       "15826  15826   1241035                7                       8   \n",
       "15827  15827   1142706                5                      10   \n",
       "15828  15828   1112209                8                      10   \n",
       "15829  15829   1107684                6                     NaN   \n",
       "15830  15830   1110524               10                       5   \n",
       "15831  15831   1106829                7                       8   \n",
       "15832  15832   1142706                5                      10   \n",
       "15833  15833   1226612                7                       5   \n",
       "15834  15834   1107684                6                      10   \n",
       "15835  15835   1107684                6                      10   \n",
       "15836  15836   1076352                3                       6   \n",
       "15837  15837   1111249               10                       6   \n",
       "15838  15838   1111249               10                       6   \n",
       "15839  15839   1107684                6                      10   \n",
       "15840  15840    691628                8                       6   \n",
       "15841  15841  11112490              100                      60   \n",
       "15842  15842   1198641               10                      10   \n",
       "15843  15843   1142706                5                      10   \n",
       "15844  15844   1076352                3                       6   \n",
       "15845  15845    378275               10                       9   \n",
       "15846  15846    378275               10                       9   \n",
       "15847  15847   1112209                8                      10   \n",
       "15848  15848    691628                8                       6   \n",
       "15849  15849   1226612                7                       5   \n",
       "15850  15850   1169049                7                       3   \n",
       "15851  15851   1076352                3                       6   \n",
       "15852  15852   1107684                6                      10   \n",
       "15853  15853   1111249               10                       6   \n",
       "15854  15854   1106829                7                       8   \n",
       "\n",
       "      Uniformity of Cell Shape Marginal Adhesion Single Epithelial Cell Size  \\\n",
       "0                            3                 7                           4   \n",
       "1                            5                 5                           4   \n",
       "2                            4                10                          10   \n",
       "3                            6                 3                           3   \n",
       "4                           10                10                           6   \n",
       "5                            4                 6                           2   \n",
       "6                            7                 3                           4   \n",
       "7                           10                10                           6   \n",
       "8                            4                 6                           2   \n",
       "9                            6                 3                           3   \n",
       "10                           4                 4                           3   \n",
       "11                           4                10                          10   \n",
       "12                           6                 3                           4   \n",
       "13                           4                10                           3   \n",
       "14                          10                 1                           3   \n",
       "15                           6                 3                           3   \n",
       "16                          10                 1                           3   \n",
       "17                          10                 1                           3   \n",
       "18                           5                 5                           4   \n",
       "19                           5                 6                           8   \n",
       "20                           1                 1                           2   \n",
       "21                           7                 2                           4   \n",
       "22                           7                 3                           4   \n",
       "23                           3                 7                           4   \n",
       "24                           6                 3                           4   \n",
       "25                           6                 3                           3   \n",
       "26                           6                 3                           3   \n",
       "27                           3                 7                           4   \n",
       "28                           5                 4                           3   \n",
       "29                           6                 3                           3   \n",
       "...                        ...               ...                         ...   \n",
       "15825                        6                 3                           3   \n",
       "15826                        3                 7                           4   \n",
       "15827                       10                10                           6   \n",
       "15828                       10                 1                           3   \n",
       "15829                      NaN               NaN                         NaN   \n",
       "15830                        5                 6                           8   \n",
       "15831                        7                 2                           4   \n",
       "15832                       10                10                           6   \n",
       "15833                        6                 3                           3   \n",
       "15834                        5                 5                           4   \n",
       "15835                        5                 5                           4   \n",
       "15836                        4                10                           3   \n",
       "15837                        6                 3                           4   \n",
       "15838                        6                 3                           4   \n",
       "15839                        5                 5                           4   \n",
       "15840                        4                10                          10   \n",
       "15841                       60                30                          40   \n",
       "15842                        6                 3                           3   \n",
       "15843                       10                10                           6   \n",
       "15844                        4                10                           3   \n",
       "15845                        7                 3                           4   \n",
       "15846                        7                 3                           4   \n",
       "15847                       10                 1                           3   \n",
       "15848                        4                10                          10   \n",
       "15849                        6                 3                           3   \n",
       "15850                        4                 4                           3   \n",
       "15851                        4                10                           3   \n",
       "15852                        5                 5                           4   \n",
       "15853                        6                 3                           4   \n",
       "15854                        7                 2                           4   \n",
       "\n",
       "      Bare Nuclei Bland Chromatin Normal Nucleoli Mitoses Class  \n",
       "0               5               7               8       2     4  \n",
       "1              10               6              10       1     4  \n",
       "2               1               3               5       1     4  \n",
       "3               8               7               4       1     4  \n",
       "4              10               6               5       2     4  \n",
       "5              10               2               3       1     4  \n",
       "6               2               7               7       1     4  \n",
       "7              10               6               5       2     4  \n",
       "8              10               2               3       1     4  \n",
       "9               8               7               4       1     4  \n",
       "10              3               3               2       7     4  \n",
       "11              1               3               5       1     4  \n",
       "12              5               3               6       1     4  \n",
       "13              3               3               4       1     4  \n",
       "14              6               3               9       1     4  \n",
       "15              8               7               4       1     4  \n",
       "16              6               3               9       1     4  \n",
       "17              6               3               9       1     4  \n",
       "18             10               6              10       1     4  \n",
       "19              8               7               1       1     4  \n",
       "20              1               2               1       1     2  \n",
       "21              8               3               8       2     4  \n",
       "22              2               7               7       1     4  \n",
       "23              5               7               8       2     4  \n",
       "24              5               3               6       1     4  \n",
       "25             10               4               3       2     4  \n",
       "26              8               7               4       1     4  \n",
       "27              5               7               8       2     4  \n",
       "28             10               6               1       1     4  \n",
       "29             10               4               3       2     4  \n",
       "...           ...             ...             ...     ...   ...  \n",
       "15825           8               7               4       1     4  \n",
       "15826           5               7               8       2     4  \n",
       "15827          10               6               5       2     4  \n",
       "15828           6               3               9       1     4  \n",
       "15829         NaN             NaN             NaN     NaN   NaN  \n",
       "15830           8               7               1       1     4  \n",
       "15831           8               3               8       2     4  \n",
       "15832          10               6               5       2     4  \n",
       "15833           8               7               4       1     4  \n",
       "15834          10               6              10       1     4  \n",
       "15835          10               6              10       1     4  \n",
       "15836           3               3               4       1     4  \n",
       "15837           5               3               6       1     4  \n",
       "15838           5               3               6       1     4  \n",
       "15839          10               6              10       1     4  \n",
       "15840           1               3               5       1     4  \n",
       "15841          50              30              60      10    40  \n",
       "15842          10               4               3       2     4  \n",
       "15843          10               6               5       2     4  \n",
       "15844           3               3               4       1     4  \n",
       "15845           2               7               7       1     4  \n",
       "15846           2               7               7       1     4  \n",
       "15847           6               3               9       1     4  \n",
       "15848           1               3               5       1     4  \n",
       "15849           8               7               4       1     4  \n",
       "15850           3               3               2       7     4  \n",
       "15851           3               3               4       1     4  \n",
       "15852          10               6              10       1     4  \n",
       "15853           5               3               6       1     4  \n",
       "15854           8               3               8       2     4  \n",
       "\n",
       "[15855 rows x 12 columns]>"
      ]
     },
     "execution_count": 243,
     "metadata": {},
     "output_type": "execute_result"
    }
   ],
   "source": [
    "df.describe"
   ]
  },
  {
   "cell_type": "code",
   "execution_count": 244,
   "metadata": {},
   "outputs": [
    {
     "data": {
      "text/plain": [
       "28"
      ]
     },
     "execution_count": 244,
     "metadata": {},
     "output_type": "execute_result"
    }
   ],
   "source": [
    "#any null values in the dataset?\n",
    "df_missing = df[df['Bare Nuclei'].isnull()]\n",
    "len(df_missing)"
   ]
  },
  {
   "cell_type": "code",
   "execution_count": 245,
   "metadata": {},
   "outputs": [
    {
     "data": {
      "text/plain": [
       "15827"
      ]
     },
     "execution_count": 245,
     "metadata": {},
     "output_type": "execute_result"
    }
   ],
   "source": [
    "df = df.dropna()\n",
    "len(df)"
   ]
  },
  {
   "cell_type": "code",
   "execution_count": 246,
   "metadata": {},
   "outputs": [
    {
     "data": {
      "text/plain": [
       "666"
      ]
     },
     "execution_count": 246,
     "metadata": {},
     "output_type": "execute_result"
    }
   ],
   "source": [
    "len(df['ID'].unique())"
   ]
  },
  {
   "cell_type": "code",
   "execution_count": 247,
   "metadata": {},
   "outputs": [],
   "source": [
    "#there is a double index, solving that here\n",
    "df = df.drop(columns = ['Index'])"
   ]
  },
  {
   "cell_type": "code",
   "execution_count": 248,
   "metadata": {},
   "outputs": [
    {
     "data": {
      "text/html": [
       "<div>\n",
       "<style scoped>\n",
       "    .dataframe tbody tr th:only-of-type {\n",
       "        vertical-align: middle;\n",
       "    }\n",
       "\n",
       "    .dataframe tbody tr th {\n",
       "        vertical-align: top;\n",
       "    }\n",
       "\n",
       "    .dataframe thead th {\n",
       "        text-align: right;\n",
       "    }\n",
       "</style>\n",
       "<table border=\"1\" class=\"dataframe\">\n",
       "  <thead>\n",
       "    <tr style=\"text-align: right;\">\n",
       "      <th></th>\n",
       "      <th>ID</th>\n",
       "      <th>Clump Thickness</th>\n",
       "      <th>Uniformity of Cell Size</th>\n",
       "      <th>Uniformity of Cell Shape</th>\n",
       "      <th>Marginal Adhesion</th>\n",
       "      <th>Single Epithelial Cell Size</th>\n",
       "      <th>Bare Nuclei</th>\n",
       "      <th>Bland Chromatin</th>\n",
       "      <th>Normal Nucleoli</th>\n",
       "      <th>Mitoses</th>\n",
       "      <th>Class</th>\n",
       "    </tr>\n",
       "  </thead>\n",
       "  <tbody>\n",
       "    <tr>\n",
       "      <th>0</th>\n",
       "      <td>1241035</td>\n",
       "      <td>7</td>\n",
       "      <td>8</td>\n",
       "      <td>3</td>\n",
       "      <td>7</td>\n",
       "      <td>4</td>\n",
       "      <td>5</td>\n",
       "      <td>7</td>\n",
       "      <td>8</td>\n",
       "      <td>2</td>\n",
       "      <td>4</td>\n",
       "    </tr>\n",
       "    <tr>\n",
       "      <th>1</th>\n",
       "      <td>1107684</td>\n",
       "      <td>6</td>\n",
       "      <td>10</td>\n",
       "      <td>5</td>\n",
       "      <td>5</td>\n",
       "      <td>4</td>\n",
       "      <td>10</td>\n",
       "      <td>6</td>\n",
       "      <td>10</td>\n",
       "      <td>1</td>\n",
       "      <td>4</td>\n",
       "    </tr>\n",
       "    <tr>\n",
       "      <th>2</th>\n",
       "      <td>691628</td>\n",
       "      <td>8</td>\n",
       "      <td>6</td>\n",
       "      <td>4</td>\n",
       "      <td>10</td>\n",
       "      <td>10</td>\n",
       "      <td>1</td>\n",
       "      <td>3</td>\n",
       "      <td>5</td>\n",
       "      <td>1</td>\n",
       "      <td>4</td>\n",
       "    </tr>\n",
       "    <tr>\n",
       "      <th>3</th>\n",
       "      <td>1226612</td>\n",
       "      <td>7</td>\n",
       "      <td>5</td>\n",
       "      <td>6</td>\n",
       "      <td>3</td>\n",
       "      <td>3</td>\n",
       "      <td>8</td>\n",
       "      <td>7</td>\n",
       "      <td>4</td>\n",
       "      <td>1</td>\n",
       "      <td>4</td>\n",
       "    </tr>\n",
       "    <tr>\n",
       "      <th>4</th>\n",
       "      <td>1142706</td>\n",
       "      <td>5</td>\n",
       "      <td>10</td>\n",
       "      <td>10</td>\n",
       "      <td>10</td>\n",
       "      <td>6</td>\n",
       "      <td>10</td>\n",
       "      <td>6</td>\n",
       "      <td>5</td>\n",
       "      <td>2</td>\n",
       "      <td>4</td>\n",
       "    </tr>\n",
       "  </tbody>\n",
       "</table>\n",
       "</div>"
      ],
      "text/plain": [
       "        ID  Clump Thickness Uniformity of Cell Size Uniformity of Cell Shape  \\\n",
       "0  1241035                7                       8                        3   \n",
       "1  1107684                6                      10                        5   \n",
       "2   691628                8                       6                        4   \n",
       "3  1226612                7                       5                        6   \n",
       "4  1142706                5                      10                       10   \n",
       "\n",
       "  Marginal Adhesion Single Epithelial Cell Size Bare Nuclei Bland Chromatin  \\\n",
       "0                 7                           4           5               7   \n",
       "1                 5                           4          10               6   \n",
       "2                10                          10           1               3   \n",
       "3                 3                           3           8               7   \n",
       "4                10                           6          10               6   \n",
       "\n",
       "  Normal Nucleoli Mitoses Class  \n",
       "0               8       2     4  \n",
       "1              10       1     4  \n",
       "2               5       1     4  \n",
       "3               4       1     4  \n",
       "4               5       2     4  "
      ]
     },
     "execution_count": 248,
     "metadata": {},
     "output_type": "execute_result"
    }
   ],
   "source": [
    "df.head()"
   ]
  },
  {
   "cell_type": "code",
   "execution_count": 249,
   "metadata": {},
   "outputs": [
    {
     "data": {
      "text/plain": [
       "741"
      ]
     },
     "execution_count": 249,
     "metadata": {},
     "output_type": "execute_result"
    }
   ],
   "source": [
    "#dropping duplicates\n",
    "df = df.drop_duplicates()\n",
    "len(df)"
   ]
  },
  {
   "cell_type": "code",
   "execution_count": 250,
   "metadata": {},
   "outputs": [
    {
     "data": {
      "text/plain": [
       "75"
      ]
     },
     "execution_count": 250,
     "metadata": {},
     "output_type": "execute_result"
    }
   ],
   "source": [
    "len(df[df['ID'].duplicated()])"
   ]
  },
  {
   "cell_type": "code",
   "execution_count": 251,
   "metadata": {
    "scrolled": true
   },
   "outputs": [],
   "source": [
    "#remove all non-numeric rows (filtered based on a category that has to be numeric)\n",
    "df.loc[:,'non_numeric'] = pd.to_numeric(df['Uniformity of Cell Size'], errors='coerce').isnull()"
   ]
  },
  {
   "cell_type": "code",
   "execution_count": 252,
   "metadata": {},
   "outputs": [],
   "source": [
    "df = df[df.non_numeric == False]"
   ]
  },
  {
   "cell_type": "code",
   "execution_count": 253,
   "metadata": {},
   "outputs": [
    {
     "data": {
      "text/plain": [
       "45"
      ]
     },
     "execution_count": 253,
     "metadata": {},
     "output_type": "execute_result"
    }
   ],
   "source": [
    "#45 are multiple visits by a single patient, not touching that\n",
    "len(df[df['ID'].duplicated()])"
   ]
  },
  {
   "cell_type": "code",
   "execution_count": 254,
   "metadata": {},
   "outputs": [
    {
     "data": {
      "text/plain": [
       "str"
      ]
     },
     "execution_count": 254,
     "metadata": {},
     "output_type": "execute_result"
    }
   ],
   "source": [
    "type(df.Mitoses[0])"
   ]
  },
  {
   "cell_type": "code",
   "execution_count": 255,
   "metadata": {},
   "outputs": [],
   "source": [
    "df = df.drop(['non_numeric'], axis=1)"
   ]
  },
  {
   "cell_type": "code",
   "execution_count": 256,
   "metadata": {},
   "outputs": [
    {
     "data": {
      "text/plain": [
       "16"
      ]
     },
     "execution_count": 256,
     "metadata": {},
     "output_type": "execute_result"
    }
   ],
   "source": [
    "len(df[df['Bare Nuclei'] =='?'])"
   ]
  },
  {
   "cell_type": "code",
   "execution_count": 263,
   "metadata": {},
   "outputs": [
    {
     "data": {
      "text/plain": [
       "numpy.int64"
      ]
     },
     "execution_count": 263,
     "metadata": {},
     "output_type": "execute_result"
    }
   ],
   "source": [
    "df[\"Bare Nuclei\"] = df[\"Bare Nuclei\"].replace('?', 11)\n",
    "df[\"Bare Nuclei\"] = df[\"Bare Nuclei\"].apply(pd.to_numeric)\n",
    "type(df[\"Bare Nuclei\"][0])"
   ]
  },
  {
   "cell_type": "code",
   "execution_count": 267,
   "metadata": {},
   "outputs": [],
   "source": [
    "df = df.apply(pd.to_numeric)"
   ]
  },
  {
   "cell_type": "code",
   "execution_count": 285,
   "metadata": {},
   "outputs": [],
   "source": [
    "df[(df.Class == 20) | (df.Class == 40)] = df[(df.Class == 20) | (df.Class == 40)]/10"
   ]
  },
  {
   "cell_type": "code",
   "execution_count": 290,
   "metadata": {},
   "outputs": [
    {
     "data": {
      "text/plain": [
       "<Figure size 432x288 with 0 Axes>"
      ]
     },
     "metadata": {},
     "output_type": "display_data"
    },
    {
     "data": {
      "image/png": "[encoded data removed]",
      "text/plain": [
       "<Figure size 432x288 with 1 Axes>"
      ]
     },
     "metadata": {
      "needs_background": "light"
     },
     "output_type": "display_data"
    }
   ],
   "source": [
    "import matplotlib.pyplot as plt\n",
    "figure = plt.figure()\n",
    "df.hist(column = 'Bare Nuclei')\n",
    "plt.show()"
   ]
  },
  {
   "cell_type": "markdown",
   "metadata": {},
   "source": [
    "# 2. Visualization"
   ]
  },
  {
   "cell_type": "markdown",
   "metadata": {},
   "source": [
    "Two classes, fairly unbalanced as expected (malignant casses are less common)"
   ]
  },
  {
   "cell_type": "code",
   "execution_count": 292,
   "metadata": {
    "scrolled": true
   },
   "outputs": [
    {
     "data": {
      "image/png": "[encoded data removed]",
      "text/plain": [
       "<Figure size 432x288 with 1 Axes>"
      ]
     },
     "metadata": {
      "needs_background": "light"
     },
     "output_type": "display_data"
    }
   ],
   "source": [
    "import matplotlib.pyplot as plt\n",
    "figure = plt.figure()\n",
    "df.groupby('Class').Class.count().plot.bar(ylim=0)\n",
    "plt.show()"
   ]
  },
  {
   "cell_type": "code",
   "execution_count": 301,
   "metadata": {},
   "outputs": [
    {
     "data": {
      "text/plain": [
       "<Figure size 2160x720 with 0 Axes>"
      ]
     },
     "metadata": {},
     "output_type": "display_data"
    },
    {
     "data": {
      "image/png": "[encoded data removed]",
      "text/plain": [
       "<Figure size 2160x720 with 12 Axes>"
      ]
     },
     "metadata": {
      "needs_background": "light"
     },
     "output_type": "display_data"
    }
   ],
   "source": [
    "#indiviual features histograms (Clump Thickness, Bland Chromatin most variable)\n",
    "figure = plt.figure()\n",
    "df.hist()\n",
    "plt.rcParams['figure.figsize'] = [30, 10]\n",
    "plt.show()"
   ]
  },
  {
   "cell_type": "markdown",
   "metadata": {},
   "source": [
    "## 3. Feature extraction"
   ]
  },
  {
   "cell_type": "code",
   "execution_count": 303,
   "metadata": {},
   "outputs": [
    {
     "data": {
      "text/html": [
       "<div>\n",
       "<style scoped>\n",
       "    .dataframe tbody tr th:only-of-type {\n",
       "        vertical-align: middle;\n",
       "    }\n",
       "\n",
       "    .dataframe tbody tr th {\n",
       "        vertical-align: top;\n",
       "    }\n",
       "\n",
       "    .dataframe thead th {\n",
       "        text-align: right;\n",
       "    }\n",
       "</style>\n",
       "<table border=\"1\" class=\"dataframe\">\n",
       "  <thead>\n",
       "    <tr style=\"text-align: right;\">\n",
       "      <th></th>\n",
       "      <th>ID</th>\n",
       "      <th>Clump Thickness</th>\n",
       "      <th>Uniformity of Cell Size</th>\n",
       "      <th>Uniformity of Cell Shape</th>\n",
       "      <th>Marginal Adhesion</th>\n",
       "      <th>Single Epithelial Cell Size</th>\n",
       "      <th>Bare Nuclei</th>\n",
       "      <th>Bland Chromatin</th>\n",
       "      <th>Normal Nucleoli</th>\n",
       "      <th>Mitoses</th>\n",
       "      <th>Class</th>\n",
       "    </tr>\n",
       "  </thead>\n",
       "  <tbody>\n",
       "    <tr>\n",
       "      <th>0</th>\n",
       "      <td>1241035.0</td>\n",
       "      <td>7.0</td>\n",
       "      <td>8.0</td>\n",
       "      <td>3.0</td>\n",
       "      <td>7.0</td>\n",
       "      <td>4.0</td>\n",
       "      <td>5.0</td>\n",
       "      <td>7.0</td>\n",
       "      <td>8.0</td>\n",
       "      <td>2.0</td>\n",
       "      <td>4.0</td>\n",
       "    </tr>\n",
       "    <tr>\n",
       "      <th>1</th>\n",
       "      <td>1107684.0</td>\n",
       "      <td>6.0</td>\n",
       "      <td>10.0</td>\n",
       "      <td>5.0</td>\n",
       "      <td>5.0</td>\n",
       "      <td>4.0</td>\n",
       "      <td>10.0</td>\n",
       "      <td>6.0</td>\n",
       "      <td>10.0</td>\n",
       "      <td>1.0</td>\n",
       "      <td>4.0</td>\n",
       "    </tr>\n",
       "    <tr>\n",
       "      <th>2</th>\n",
       "      <td>691628.0</td>\n",
       "      <td>8.0</td>\n",
       "      <td>6.0</td>\n",
       "      <td>4.0</td>\n",
       "      <td>10.0</td>\n",
       "      <td>10.0</td>\n",
       "      <td>1.0</td>\n",
       "      <td>3.0</td>\n",
       "      <td>5.0</td>\n",
       "      <td>1.0</td>\n",
       "      <td>4.0</td>\n",
       "    </tr>\n",
       "    <tr>\n",
       "      <th>3</th>\n",
       "      <td>1226612.0</td>\n",
       "      <td>7.0</td>\n",
       "      <td>5.0</td>\n",
       "      <td>6.0</td>\n",
       "      <td>3.0</td>\n",
       "      <td>3.0</td>\n",
       "      <td>8.0</td>\n",
       "      <td>7.0</td>\n",
       "      <td>4.0</td>\n",
       "      <td>1.0</td>\n",
       "      <td>4.0</td>\n",
       "    </tr>\n",
       "    <tr>\n",
       "      <th>4</th>\n",
       "      <td>1142706.0</td>\n",
       "      <td>5.0</td>\n",
       "      <td>10.0</td>\n",
       "      <td>10.0</td>\n",
       "      <td>10.0</td>\n",
       "      <td>6.0</td>\n",
       "      <td>10.0</td>\n",
       "      <td>6.0</td>\n",
       "      <td>5.0</td>\n",
       "      <td>2.0</td>\n",
       "      <td>4.0</td>\n",
       "    </tr>\n",
       "  </tbody>\n",
       "</table>\n",
       "</div>"
      ],
      "text/plain": [
       "          ID  Clump Thickness  Uniformity of Cell Size  \\\n",
       "0  1241035.0              7.0                      8.0   \n",
       "1  1107684.0              6.0                     10.0   \n",
       "2   691628.0              8.0                      6.0   \n",
       "3  1226612.0              7.0                      5.0   \n",
       "4  1142706.0              5.0                     10.0   \n",
       "\n",
       "   Uniformity of Cell Shape  Marginal Adhesion  Single Epithelial Cell Size  \\\n",
       "0                       3.0                7.0                          4.0   \n",
       "1                       5.0                5.0                          4.0   \n",
       "2                       4.0               10.0                         10.0   \n",
       "3                       6.0                3.0                          3.0   \n",
       "4                      10.0               10.0                          6.0   \n",
       "\n",
       "   Bare Nuclei  Bland Chromatin  Normal Nucleoli  Mitoses  Class  \n",
       "0          5.0              7.0              8.0      2.0    4.0  \n",
       "1         10.0              6.0             10.0      1.0    4.0  \n",
       "2          1.0              3.0              5.0      1.0    4.0  \n",
       "3          8.0              7.0              4.0      1.0    4.0  \n",
       "4         10.0              6.0              5.0      2.0    4.0  "
      ]
     },
     "execution_count": 303,
     "metadata": {},
     "output_type": "execute_result"
    }
   ],
   "source": [
    "df.head()"
   ]
  },
  {
   "cell_type": "code",
   "execution_count": 322,
   "metadata": {},
   "outputs": [],
   "source": [
    "X_df = df.drop(columns = ['ID','Class'])\n",
    "y_df = df['Class']\n",
    "y_new = [0 if item == 2 else 1 for item in y_df]"
   ]
  },
  {
   "cell_type": "code",
   "execution_count": 310,
   "metadata": {},
   "outputs": [],
   "source": [
    "X = X_df.values\n",
    "y = y_df.values"
   ]
  },
  {
   "cell_type": "code",
   "execution_count": 324,
   "metadata": {},
   "outputs": [
    {
     "name": "stdout",
     "output_type": "stream",
     "text": [
      "(475, 9) (475,)\n",
      "(235, 9) (235,)\n"
     ]
    }
   ],
   "source": [
    "from sklearn.model_selection import train_test_split\n",
    "X_train, X_test, y_train, y_test = train_test_split(X, y, test_size=0.33)\n",
    "print (X_train.shape, y_train.shape)\n",
    "print (X_test.shape, y_test.shape)"
   ]
  },
  {
   "cell_type": "code",
   "execution_count": 326,
   "metadata": {},
   "outputs": [
    {
     "data": {
      "text/plain": [
       "LogisticRegression(C=1.0, class_weight=None, dual=False, fit_intercept=True,\n",
       "                   intercept_scaling=1, l1_ratio=None, max_iter=100,\n",
       "                   multi_class='warn', n_jobs=None, penalty='l2',\n",
       "                   random_state=None, solver='liblinear', tol=0.0001, verbose=0,\n",
       "                   warm_start=False)"
      ]
     },
     "execution_count": 326,
     "metadata": {},
     "output_type": "execute_result"
    }
   ],
   "source": [
    "from sklearn.linear_model import LogisticRegression\n",
    "clf = LogisticRegression(solver = 'liblinear')\n",
    "clf.fit(X_train, y_train)"
   ]
  },
  {
   "cell_type": "code",
   "execution_count": 333,
   "metadata": {},
   "outputs": [
    {
     "name": "stdout",
     "output_type": "stream",
     "text": [
      "0.948936170212766\n"
     ]
    },
    {
     "data": {
      "text/plain": [
       "array([[146,   4],\n",
       "       [  8,  77]])"
      ]
     },
     "execution_count": 333,
     "metadata": {},
     "output_type": "execute_result"
    }
   ],
   "source": [
    "from sklearn.metrics import accuracy_score\n",
    "from sklearn.metrics import confusion_matrix\n",
    "predictions = clf.predict(X_test)\n",
    "#predictions = predictions.todense()\n",
    "# score evaluation results\n",
    "accuracy_score = accuracy_score(y_test, predictions)\n",
    "print(accuracy_score)\n",
    "confusion_matrix(y_test, predictions)\n",
    "#classification_report = metrics.classification_report(y_test, predictions, target_names=id_to_category)"
   ]
  },
  {
   "cell_type": "code",
   "execution_count": null,
   "metadata": {},
   "outputs": [],
   "source": []
  }
 ],
 "metadata": {
  "kernelspec": {
   "display_name": "Python 3",
   "language": "python",
   "name": "python3"
  },
  "language_info": {
   "codemirror_mode": {
    "name": "ipython",
    "version": 3
   },
   "file_extension": ".py",
   "mimetype": "text/x-python",
   "name": "python",
   "nbconvert_exporter": "python",
   "pygments_lexer": "ipython3",
   "version": "3.7.3"
  }
 },
 "nbformat": 4,
 "nbformat_minor": 2
}
